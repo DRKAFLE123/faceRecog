{
 "cells": [
  {
   "cell_type": "code",
   "execution_count": 1,
   "id": "954c79f4",
   "metadata": {},
   "outputs": [],
   "source": [
    "import tkinter as tk  \n",
    "from tkinter import Message,Text   \n",
    "#Tkinter (capital T) is a built-in library in Python, \n",
    "#meaning it comes with the standard installation of Python and does not need to be installed separately.\n",
    "#we can use its classes and methods to create GUI applications in Python."
   ]
  },
  {
   "cell_type": "code",
   "execution_count": 2,
   "id": "48c19a9a",
   "metadata": {},
   "outputs": [],
   "source": [
    "import cv2 \n",
    "#pip install opencv-contrib-python//this is used in terminal\n",
    "#cv2 is a Python library for computer vision and machine learning. It is built on top of the OpenCV library, \n",
    "#which is a popular open-source computer vision library written in C++.\n",
    "\n",
    "#The cv2 library provides functions and classes for image processing and computer vision tasks such as\n",
    "#object detection, facial recognition, feature detection, and more. \n",
    "#It supports a wide range of image and video file formats, and it can be used for both real-time and offline processing."
   ]
  },
  {
   "cell_type": "code",
   "execution_count": 3,
   "id": "2d253267",
   "metadata": {},
   "outputs": [],
   "source": [
    "import os  \n",
    "#he os module in Python provides a way to interact with the operating system in a platform-independent way.\n",
    "#It allows you to perform various system-related tasks such as:\n",
    "#manipulating files and directories, launching programs, and more."
   ]
  },
  {
   "cell_type": "code",
   "execution_count": 4,
   "id": "7afff621",
   "metadata": {},
   "outputs": [],
   "source": [
    "import shutil  \n",
    "#shutil is a Python module that provides a higher level interface for file operations than the built-in os module.\n",
    "#It provides functions for copying, moving, and deleting files and directories, as well as archiving and compressing files."
   ]
  },
  {
   "cell_type": "code",
   "execution_count": 5,
   "id": "9f317f17",
   "metadata": {},
   "outputs": [],
   "source": [
    "import csv\n",
    "#csv is a Python module that provides functionality to work with Comma Separated Value (CSV) files.\n",
    "#CSV files are a common file format used to store tabular data,\n",
    "#where each row represents a record and each column represents a field."
   ]
  },
  {
   "cell_type": "code",
   "execution_count": 6,
   "id": "98264880",
   "metadata": {},
   "outputs": [],
   "source": [
    "import numpy as np  #pip install numpy\n",
    "#numpy is a Python library for numerical computing that provides high-performance arrays and matrices, \n",
    "#as well as a large collection of mathematical functions to operate on them. \n",
    "#It is widely used in scientific computing, data analysis, and machine learning."
   ]
  },
  {
   "cell_type": "code",
   "execution_count": 7,
   "id": "a300bfc3",
   "metadata": {},
   "outputs": [],
   "source": [
    "from PIL import Image,ImageTk  \n",
    "#for PIL we have to install pillow as pip install pillow\n",
    "#PIL stands for \"Python Imaging Library\". It is a Python library for working with image files. \n",
    "#The library provides a wide range of image processing capabilities,\n",
    "#including image loading and saving, image manipulation, and image filtering.\n",
    "#ImageTK is not a built-in library in Python. \n",
    "#It is actually part of the PIL (Python Imaging Library) package, which is used for working with image files.\n",
    "#t makes it easy to create interactive image-based applications with Python."
   ]
  },
  {
   "cell_type": "code",
   "execution_count": 9,
   "id": "59087f01",
   "metadata": {},
   "outputs": [],
   "source": [
    "import pandas as pd  #pip install pandas\n",
    "#pandas is a popular third-party library for data manipulation and analysis in Python. \n",
    "#It provides fast, flexible, and expressive data structures for working with tabular, matrix, and time-series data."
   ]
  },
  {
   "cell_type": "code",
   "execution_count": 10,
   "id": "4b74c834",
   "metadata": {},
   "outputs": [],
   "source": [
    "import datetime\n",
    "#datetime is a built-in library in Python for working with dates and times.\n",
    "#It provides classes for representing dates, times, and time intervals, a\n",
    "#s well as functions for formatting and parsing dates and times."
   ]
  },
  {
   "cell_type": "code",
   "execution_count": 11,
   "id": "6b8dc229",
   "metadata": {},
   "outputs": [],
   "source": [
    "import time\n",
    "#time is a built-in Python library that provides various functions for working with time.\n",
    "#It allows you to perform timing operations, get the current time, sleep or delay program execution, \n",
    "#and perform other time-related tasks."
   ]
  },
  {
   "cell_type": "code",
   "execution_count": 13,
   "id": "56f104c7",
   "metadata": {},
   "outputs": [],
   "source": [
    "import tkinter.ttk as ttk\n",
    "#This imports the ttk module from the tkinter package, which provides access to Tk themed widgets.\n",
    "#The ttk module provides an alternative set of widgets that look more modern\n",
    "#and consistent across different platforms compared to the standard Tkinter widgets"
   ]
  },
  {
   "cell_type": "code",
   "execution_count": 14,
   "id": "a38cf4e8",
   "metadata": {},
   "outputs": [],
   "source": [
    "import tkinter.font as font\n",
    "#tkinter.font is a built-in module in Python's standard library\n",
    "#that provides a way to define and manipulate fonts in Tkinter GUI toolkit."
   ]
  },
  {
   "cell_type": "code",
   "execution_count": null,
   "id": "3a7477da",
   "metadata": {},
   "outputs": [],
   "source": [
    "from pathlib import Path\n",
    "#pathlib is a built-in module in Python's standard library that \n",
    "#provides an object-oriented way of working with file system paths.\n",
    "\n",
    "#Path is a class in the pathlib module that represents a file system path. \n",
    "#You can create a Path object by calling Path() with the path as a string:"
   ]
  }
 ],
 "metadata": {
  "kernelspec": {
   "display_name": "Python 3 (ipykernel)",
   "language": "python",
   "name": "python3"
  },
  "language_info": {
   "codemirror_mode": {
    "name": "ipython",
    "version": 3
   },
   "file_extension": ".py",
   "mimetype": "text/x-python",
   "name": "python",
   "nbconvert_exporter": "python",
   "pygments_lexer": "ipython3",
   "version": "3.11.0"
  }
 },
 "nbformat": 4,
 "nbformat_minor": 5
}
